{
 "cells": [
  {
   "cell_type": "code",
   "execution_count": 1,
   "id": "06b20b73",
   "metadata": {},
   "outputs": [],
   "source": [
    "import pandas as pd\n",
    "import numpy as np"
   ]
  },
  {
   "cell_type": "code",
   "execution_count": 2,
   "id": "67139460",
   "metadata": {},
   "outputs": [],
   "source": [
    "pd.set_option('display.max_columns', None)"
   ]
  },
  {
   "cell_type": "code",
   "execution_count": 3,
   "id": "f3336017",
   "metadata": {},
   "outputs": [],
   "source": [
    "df = pd.read_csv(\"B2B_updated_final2.csv\")\n",
    "df1 = pd.read_csv(\"player_performance_final.csv\")"
   ]
  },
  {
   "cell_type": "code",
   "execution_count": 4,
   "id": "6990722a",
   "metadata": {},
   "outputs": [],
   "source": [
    "#Cleaning the player performance data\n",
    "df1 = df1[df1['Player'] != 'TOTAL']\n",
    "df1.drop(['Unnamed: 0.1', 'Unnamed: 0'], axis = 1, inplace = True)\n",
    "df1['date'] = pd.to_datetime(df1['date'])\n",
    "df1['season'] = df1['date'].dt.year.where(df1['date'].dt.month > 6, df1['date'].dt.year - 1)\n",
    "df1['season'] = df1['season'].astype(str) + (df1['season'] + 1).astype(str)\n",
    "df1['TOI'] = df1['TOI'].str.split(':').apply(lambda x: int(x[0]) + int(x[1])/60)"
   ]
  },
  {
   "cell_type": "code",
   "execution_count": 5,
   "id": "b3a48258",
   "metadata": {},
   "outputs": [],
   "source": [
    "#The date columns in the scraped dataframes were not consistent\n",
    "dc1 = pd.to_datetime(df1['date'], format = '%Y-%m-%d', errors = 'coerce')\n",
    "dc2 = pd.to_datetime(df1['date'], format = '%d/%m/%y', errors = 'coerce')\n",
    "df1['date'] = dc1.fillna(dc2)"
   ]
  },
  {
   "cell_type": "code",
   "execution_count": 6,
   "id": "c8b883e4",
   "metadata": {},
   "outputs": [],
   "source": [
    "#Adding back to back games column based on team and date. \n",
    "b2b_home_games = df[df['home_b2b'] == 1][['date', 'homename']]\n",
    "b2b_away_games = df[df['away_b2b'] == 1][['date', 'awayname']]\n",
    "b2b_home_games.columns = ['date', 'team']\n",
    "b2b_away_games.columns = ['date', 'team']\n",
    "\n",
    "b2b_final = pd.concat([b2b_home_games, b2b_away_games])\n",
    "b2b_final['is_b2b_game'] = 1\n",
    "b2b_final['date'] = pd.to_datetime(b2b_final['date'])\n",
    "\n",
    "df1 = df1.merge(b2b_final, on=['date', 'team'], how='left')\n",
    "df1['is_b2b_game'].fillna(0, inplace=True)\n",
    "df1['is_b2b_game'] = df1['is_b2b_game'].astype(int)"
   ]
  },
  {
   "cell_type": "code",
   "execution_count": 7,
   "id": "a16101a2",
   "metadata": {},
   "outputs": [],
   "source": [
    "#Adding 3in4 \n",
    "cg1_home_games = df[df['home_3in4'] == 1][['date', 'homename']]\n",
    "cg1_away_games = df[df['away_3in4'] == 1][['date', 'awayname']]\n",
    "cg1_home_games.columns = ['date', 'team']\n",
    "cg1_away_games.columns = ['date', 'team']\n",
    "\n",
    "cg1_final = pd.concat([b2b_home_games, b2b_away_games])\n",
    "cg1_final['is_3in4_game'] = 1\n",
    "cg1_final['date'] = pd.to_datetime(cg1_final['date'])\n",
    "\n",
    "df1 = df1.merge(cg1_final, on=['date', 'team'], how='left')\n",
    "df1['is_3in4_game'].fillna(0, inplace=True)\n",
    "df1['is_3in4_game'] = df1['is_3in4_game'].astype(int)"
   ]
  },
  {
   "cell_type": "code",
   "execution_count": 8,
   "id": "0123167c",
   "metadata": {},
   "outputs": [],
   "source": [
    "#Adding 5in8\n",
    "cg2_home_games = df[df['home_5in8'] == 1][['date', 'homename']]\n",
    "cg2_away_games = df[df['away_5in8'] == 1][['date', 'awayname']]\n",
    "cg2_home_games.columns = ['date', 'team']\n",
    "cg2_away_games.columns = ['date', 'team']\n",
    "\n",
    "cg2_final = pd.concat([b2b_home_games, b2b_away_games])\n",
    "cg2_final['is_5in8_game'] = 1\n",
    "cg2_final['date'] = pd.to_datetime(cg2_final['date'])\n",
    "\n",
    "df1 = df1.merge(cg2_final, on=['date', 'team'], how='left')\n",
    "df1['is_5in8_game'].fillna(0, inplace=True)\n",
    "df1['is_5in8_game'] = df1['is_5in8_game'].astype(int)"
   ]
  },
  {
   "cell_type": "code",
   "execution_count": 39,
   "id": "03abc434",
   "metadata": {},
   "outputs": [
    {
     "name": "stdout",
     "output_type": "stream",
     "text": [
      "Rk                   0\n",
      "Player               0\n",
      "G                    0\n",
      "A                    0\n",
      "PTS                  0\n",
      "+/-                  0\n",
      "PIM                  0\n",
      "EV                   0\n",
      "EV.1            146672\n",
      "PP                   0\n",
      "PP.1            146672\n",
      "SH                   0\n",
      "SH.1            146672\n",
      "GW                   0\n",
      "EV.2            146672\n",
      "EV.3            146672\n",
      "PP.2            146672\n",
      "PP.3            146672\n",
      "SH.2            146672\n",
      "SH.3            146672\n",
      "S                    0\n",
      "S%              129011\n",
      "SHFT                 0\n",
      "TOI                  0\n",
      "iCF                  0\n",
      "SAT‑F                0\n",
      "SAT‑A                0\n",
      "CF%                  0\n",
      "CRel%                0\n",
      "ZSO                132\n",
      "ZSD                132\n",
      "oZS%              2076\n",
      "HIT                  0\n",
      "BLK               1046\n",
      "team                 0\n",
      "date                 0\n",
      "season               0\n",
      "is_b2b_game          0\n",
      "is_3in4_game         0\n",
      "is_5in8_game         0\n",
      "dtype: int64\n"
     ]
    }
   ],
   "source": [
    "print(df1.isnull().sum())"
   ]
  },
  {
   "cell_type": "markdown",
   "id": "5cdd3358",
   "metadata": {},
   "source": [
    "### No significant features from this dataset have any missing values"
   ]
  },
  {
   "cell_type": "code",
   "execution_count": 9,
   "id": "3858785a",
   "metadata": {},
   "outputs": [],
   "source": [
    "testdf = df[df['season'] > 20092010]"
   ]
  },
  {
   "cell_type": "code",
   "execution_count": 10,
   "id": "5823ed77",
   "metadata": {},
   "outputs": [
    {
     "name": "stdout",
     "output_type": "stream",
     "text": [
      "0    9888\n",
      "1    3325\n",
      "Name: is_b2b_game, dtype: int64\n",
      "0    478947\n",
      "1     68711\n",
      "Name: is_b2b_game, dtype: int64\n"
     ]
    }
   ],
   "source": [
    "counts = testdf['is_b2b_game'].value_counts()\n",
    "counts1 = df1['is_b2b_game'].value_counts()\n",
    "\n",
    "print(counts)\n",
    "print(counts1)"
   ]
  },
  {
   "cell_type": "markdown",
   "id": "9badc3c8",
   "metadata": {},
   "source": [
    "##### 3325*19 is approx 68711. So all the values have been added correctly. "
   ]
  },
  {
   "cell_type": "code",
   "execution_count": 50,
   "id": "7a6d8e5a",
   "metadata": {},
   "outputs": [
    {
     "name": "stdout",
     "output_type": "stream",
     "text": [
      "    Rk           Player    G    A  PTS  +/-  PIM   EV  EV.1   PP  PP.1   SH  \\\n",
      "0  1.0     Matt Benning  0.0  0.0    0 -2.0    2  0.0   0.0  0.0   0.0  0.0   \n",
      "1  2.0      Nick Bonino  0.0  0.0    0 -1.0    0  0.0   0.0  0.0   0.0  0.0   \n",
      "2  3.0    Logan Couture  0.0  0.0    0 -2.0    0  0.0   0.0  0.0   0.0  0.0   \n",
      "3  4.0    Mario Ferraro  0.0  0.0    0 -1.0    0  0.0   0.0  0.0   0.0  0.0   \n",
      "4  5.0  Jonah Gadjovich  0.0  0.0    0  0.0    7  0.0   0.0  0.0   0.0  0.0   \n",
      "\n",
      "   SH.1   GW  EV.2  EV.3  PP.2  PP.3  SH.2  SH.3    S   S%  SHFT        TOI  \\\n",
      "0   0.0  0.0   0.0   0.0   0.0   0.0   0.0   0.0  2.0  0.0  26.0  14.933333   \n",
      "1   0.0  0.0   0.0   0.0   0.0   0.0   0.0   0.0  4.0  0.0  23.0  16.450000   \n",
      "2   0.0  0.0   0.0   0.0   0.0   0.0   0.0   0.0  2.0  0.0  25.0  17.716667   \n",
      "3   0.0  0.0   0.0   0.0   0.0   0.0   0.0   0.0  2.0  0.0  29.0  24.250000   \n",
      "4   0.0  0.0   0.0   0.0   0.0   0.0   0.0   0.0  0.0  NaN  15.0   8.816667   \n",
      "\n",
      "   iCF  SAT‑F  SAT‑A   CF%  CRel%   ZSO   ZSD  oZS%  HIT  BLK  \\\n",
      "0  3.0     15     15  50.0    6.2   1.0   6.0  14.3    4  1.0   \n",
      "1  5.0     13     20  39.4   -7.9   4.0   4.0  50.0    0  1.0   \n",
      "2  3.0     15     20  42.9   -3.3  13.0  10.0  56.5    2  1.0   \n",
      "3  3.0     20     30  40.0   -8.7  11.0   8.0  57.9    1  6.0   \n",
      "4  0.0      6      7  46.2    1.1   3.0   3.0  50.0    2  0.0   \n",
      "\n",
      "              team       date    season  is_b2b_game  is_3in4_game  \\\n",
      "0  San Jose Sharks 2022-10-07  20222023            0             0   \n",
      "1  San Jose Sharks 2022-10-07  20222023            0             0   \n",
      "2  San Jose Sharks 2022-10-07  20222023            0             0   \n",
      "3  San Jose Sharks 2022-10-07  20222023            0             0   \n",
      "4  San Jose Sharks 2022-10-07  20222023            0             0   \n",
      "\n",
      "   is_5in8_game  \n",
      "0             0  \n",
      "1             0  \n",
      "2             0  \n",
      "3             0  \n",
      "4             0  \n"
     ]
    }
   ],
   "source": [
    "print(df1.head(5))"
   ]
  },
  {
   "cell_type": "code",
   "execution_count": 11,
   "id": "814a7466",
   "metadata": {},
   "outputs": [],
   "source": [
    "df1.to_csv(\"player_performance_data.csv\")"
   ]
  }
 ],
 "metadata": {
  "kernelspec": {
   "display_name": "Python 3 (ipykernel)",
   "language": "python",
   "name": "python3"
  },
  "language_info": {
   "codemirror_mode": {
    "name": "ipython",
    "version": 3
   },
   "file_extension": ".py",
   "mimetype": "text/x-python",
   "name": "python",
   "nbconvert_exporter": "python",
   "pygments_lexer": "ipython3",
   "version": "3.10.9"
  }
 },
 "nbformat": 4,
 "nbformat_minor": 5
}
