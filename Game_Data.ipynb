{
 "cells": [
  {
   "cell_type": "code",
   "execution_count": 2,
   "id": "0d9848ab",
   "metadata": {},
   "outputs": [],
   "source": [
    "from selenium import webdriver\n",
    "from bs4 import BeautifulSoup\n",
    "import pandas as pd\n",
    "from datetime import datetime\n",
    "import time\n",
    "import requests"
   ]
  },
  {
   "cell_type": "code",
   "execution_count": 3,
   "id": "f2c92fc5",
   "metadata": {},
   "outputs": [],
   "source": [
    "import warnings\n",
    "warnings.filterwarnings(\"ignore\")"
   ]
  },
  {
   "cell_type": "markdown",
   "id": "e15876bf",
   "metadata": {},
   "source": [
    "## Since the URL in this case is consistent, we can use string manipulation to get all the urls. Defining the unique codes and years"
   ]
  },
  {
   "cell_type": "code",
   "execution_count": 4,
   "id": "a8f0f882",
   "metadata": {},
   "outputs": [],
   "source": [
    "\n",
    "teams = ['ANA', 'ARI', 'BOS', 'BUF', 'CAR', 'CBJ', 'CGY', 'CHI', 'COL', 'DAL', \n",
    "         'DET', 'EDM', 'FLA', 'LAK', 'MIN', 'MTL', 'NSH', 'NJD', 'NYI', 'NYR', \n",
    "         'OTT', 'PHI', 'PIT', 'SJS', 'STL', 'TBL', 'TOR', 'VAN', 'VGK', 'WPG', \n",
    "         'WSH', 'SEA'] "
   ]
  },
  {
   "cell_type": "code",
   "execution_count": 5,
   "id": "4472c140",
   "metadata": {},
   "outputs": [],
   "source": [
    "years = range(2010, 2024)"
   ]
  },
  {
   "cell_type": "markdown",
   "id": "f6767e29",
   "metadata": {},
   "source": [
    "## This scrapes the game-level data for each team in each year"
   ]
  },
  {
   "cell_type": "code",
   "execution_count": 6,
   "id": "9cded84e",
   "metadata": {},
   "outputs": [],
   "source": [
    "all_data = pd.DataFrame()\n",
    "#same as player performance, using chromedriver\n",
    "driver = webdriver.Chrome()\n",
    "\n",
    "for team in teams:\n",
    "    for year in years:\n",
    "        # consistent URL \n",
    "        url = f'https://www.hockey-reference.com/teams/{team}/{year}_gamelog.html'\n",
    "        driver.get(url)\n",
    "        # parsing through each page\n",
    "        soup = BeautifulSoup(driver.page_source, 'html.parser')\n",
    "\n",
    "        # Wait for the table to load\n",
    "        time.sleep(2) \n",
    "        \n",
    "        #consistent css selector as well, making job easier :D\n",
    "        table = soup.find('table', {'id': 'tm_gamelog_rs'})\n",
    "        if table:\n",
    "            df = pd.read_html(str(table))[0]\n",
    "            \n",
    "            df['h_team'] = team\n",
    "            df['Year'] = year\n",
    "        \n",
    "        # appending dataframes \n",
    "        all_data = all_data.append(df, ignore_index=True)\n",
    "\n"
   ]
  },
  {
   "cell_type": "code",
   "execution_count": null,
   "id": "d8bdade3",
   "metadata": {},
   "outputs": [],
   "source": []
  },
  {
   "cell_type": "code",
   "execution_count": 8,
   "id": "8277a45a",
   "metadata": {},
   "outputs": [],
   "source": [
    "#exporting to csv\n",
    "all_data.to_csv(\"game_data.csv\")"
   ]
  }
 ],
 "metadata": {
  "kernelspec": {
   "display_name": "Python 3 (ipykernel)",
   "language": "python",
   "name": "python3"
  },
  "language_info": {
   "codemirror_mode": {
    "name": "ipython",
    "version": 3
   },
   "file_extension": ".py",
   "mimetype": "text/x-python",
   "name": "python",
   "nbconvert_exporter": "python",
   "pygments_lexer": "ipython3",
   "version": "3.10.9"
  }
 },
 "nbformat": 4,
 "nbformat_minor": 5
}
